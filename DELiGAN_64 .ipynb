{
 "cells": [
  {
   "cell_type": "markdown",
   "id": "3fbed436",
   "metadata": {
    "id": "3fbed436"
   },
   "source": [
    "- [Generative Adversarial Networks](https://arxiv.org/abs/1406.2661)\n",
    "- [NIPS 2016 Tutorial:\n",
    "Generative Adversarial Networks](https://arxiv.org/pdf/1701.00160.pdf)\n",
    "- [image source](https://xiaohongliu.ca/post/gan/)"
   ]
  },
  {
   "cell_type": "markdown",
   "id": "8eeafda3",
   "metadata": {
    "id": "8eeafda3"
   },
   "source": [
    "## Library"
   ]
  },
  {
   "cell_type": "code",
   "execution_count": 1,
   "id": "146280a7",
   "metadata": {
    "id": "146280a7"
   },
   "outputs": [],
   "source": [
    "import os\n",
    "#os.environ['CUDA_VISIBLE_DEVICES'] = '1'\n",
    "import numpy as np\n",
    "import math\n",
    "from PIL import Image\n",
    "import matplotlib.pyplot as plt\n",
    "from tqdm.notebook import tqdm"
   ]
  },
  {
   "cell_type": "code",
   "execution_count": 2,
   "id": "3d08cc45",
   "metadata": {
    "id": "3d08cc45"
   },
   "outputs": [],
   "source": [
    "import torch\n",
    "import torch.nn as nn\n",
    "import torch.nn.functional as F\n",
    "import torchvision\n",
    "from torchvision.transforms.functional import to_pil_image\n",
    "from torchvision import datasets\n",
    "from torchvision import models\n",
    "from torchvision import transforms\n",
    "from torch.utils.data import DataLoader"
   ]
  },
  {
   "cell_type": "code",
   "execution_count": 3,
   "id": "e21bcf72",
   "metadata": {},
   "outputs": [
    {
     "data": {
      "text/plain": [
       "'1.13.1+cu117'"
      ]
     },
     "execution_count": 3,
     "metadata": {},
     "output_type": "execute_result"
    }
   ],
   "source": [
    "torch.__version__    "
   ]
  },
  {
   "cell_type": "code",
   "execution_count": 4,
   "id": "a3a7b594",
   "metadata": {},
   "outputs": [
    {
     "data": {
      "text/plain": [
       "True"
      ]
     },
     "execution_count": 4,
     "metadata": {},
     "output_type": "execute_result"
    }
   ],
   "source": [
    "torch.cuda.is_available()"
   ]
  },
  {
   "cell_type": "code",
   "execution_count": 5,
   "id": "ccc71a1e",
   "metadata": {},
   "outputs": [
    {
     "data": {
      "text/plain": [
       "<torch._C.Generator at 0x1cbdd901850>"
      ]
     },
     "execution_count": 5,
     "metadata": {},
     "output_type": "execute_result"
    }
   ],
   "source": [
    "torch.manual_seed(2023)"
   ]
  },
  {
   "cell_type": "markdown",
   "id": "36f13e0f",
   "metadata": {
    "id": "36f13e0f"
   },
   "source": [
    "## Hyperparameters"
   ]
  },
  {
   "cell_type": "code",
   "execution_count": 6,
   "id": "d9dc5324",
   "metadata": {
    "id": "d9dc5324"
   },
   "outputs": [],
   "source": [
    "\"\"\"\n",
    "학습에 사용될 hyperparameter 값들을 넣을 class를 정의합니다.\n",
    "\"\"\"\n",
    "class AttrDict(dict):\n",
    "    def __init__(self, *args, **kwargs):\n",
    "        super(AttrDict, self).__init__(*args, **kwargs)\n",
    "        self.__dict__ = self"
   ]
  },
  {
   "cell_type": "code",
   "execution_count": 7,
   "id": "bb580a80",
   "metadata": {
    "id": "bb580a80"
   },
   "outputs": [],
   "source": [
    "\"\"\"\n",
    "GAN model 학습에 사용되는 결과 이미지 저장 경로, 에포크 수, 모델 입력 이미지 크기 등을 정의합니다.\n",
    "\"\"\"\n",
    "config = AttrDict()\n",
    "config.data_path = 'data/resource/' \n",
    "config.save_path = 'save/DELiGAN_64/'\n",
    "#config.dataset = 'CIFAR10' #CIFAR10 어떠한 데이터셋을 사용하는지#\n",
    "config.dataset = 'emoji'\n",
    "config.n_epoch = 200\n",
    "\n",
    "config.nz = 100\n",
    "config.ngf = 128 # generator oonv filter\n",
    "config.ndf = 128 # discriminator oonv fillter\n",
    "\n",
    "\n",
    "config.log_interval =70 # loss 출력\n",
    "config.save_interval = 10  # 이미지 출력\n",
    "config.batch_size = 200\n",
    "config.learning_rate = 0.001\n",
    "config.b1 = 0.5\n",
    "config.b2 = 0.999\n",
    "config.img_shape = (3, 64, 64) # c, w, h\n",
    "config.latent_size = 100 # random noise size\n",
    "\"\"\"\n",
    "모델 입력 이미지에 수행할 normalization과 모델 생성 결과 이미지에 수행할 denormalization을 정의합니다.\n",
    "\"\"\"\n",
    "config.augmentation = transforms.Compose([\n",
    "                        transforms.Resize((config.img_shape[1], config.img_shape[2])), #resize\n",
    "                        transforms.ToTensor(),\n",
    "                        transforms.Normalize(mean=[0.5], std=[0.5]) #normalization\n",
    "                      ])\n",
    "config.denormalize = lambda x: x*0.5+0.5 #denormalization 위의 단계 reverse , 원래의 이미지를 보기 위해 수행함\n",
    "\n",
    "config.device = torch.device('cuda' if torch.cuda.is_available() else 'cpu') #cuda에 올리기"
   ]
  },
  {
   "cell_type": "code",
   "execution_count": 8,
   "id": "b950712e",
   "metadata": {
    "id": "b950712e"
   },
   "outputs": [],
   "source": [
    "#지정된 경로의 데이터셋 가져오기 및 저장\n",
    "if not os.path.isdir(config.data_path):\n",
    "    os.makedirs(config.data_path)\n",
    "if not os.path.isdir(os.path.join(config.save_path, config.dataset)):\n",
    "    os.makedirs(os.path.join(config.save_path, config.dataset))"
   ]
  },
  {
   "cell_type": "code",
   "execution_count": 9,
   "id": "29018cfd",
   "metadata": {
    "id": "29018cfd",
    "outputId": "38d86d46-3dc3-4e0f-ad44-7efd5d9a3da3"
   },
   "outputs": [
    {
     "data": {
      "text/plain": [
       "device(type='cuda')"
      ]
     },
     "execution_count": 9,
     "metadata": {},
     "output_type": "execute_result"
    }
   ],
   "source": [
    "config.device"
   ]
  },
  {
   "cell_type": "markdown",
   "id": "3fbc2c6a",
   "metadata": {
    "id": "3fbc2c6a"
   },
   "source": [
    "## Data load"
   ]
  },
  {
   "cell_type": "code",
   "execution_count": 10,
   "id": "12be5c3b",
   "metadata": {
    "id": "12be5c3b",
    "outputId": "233c623f-3f2e-4b90-df50-14f3ea03ab33"
   },
   "outputs": [
    {
     "name": "stdout",
     "output_type": "stream",
     "text": [
      "emoji\n",
      "Dataset ImageFolder\n",
      "    Number of datapoints: 13824\n",
      "    Root location: data/resource/\n",
      "    StandardTransform\n",
      "Transform: Compose(\n",
      "               Resize(size=(64, 64), interpolation=bilinear, max_size=None, antialias=None)\n",
      "               ToTensor()\n",
      "               Normalize(mean=[0.5], std=[0.5])\n",
      "           )\n"
     ]
    }
   ],
   "source": [
    "\"\"\"\n",
    "MNIST와 CIFAR-10은 torchvision 라이브러리에서 제공하여 아래와 같이 사용할 수 있습니다.\n",
    "\"\"\"\n",
    "                                 \n",
    "if config.dataset == 'CIFAR10': \n",
    "    train_dataset = datasets.CIFAR10(config.data_path,\n",
    "                                       train=True,\n",
    "                                       download=True,\n",
    "                                       transform=config.augmentation\n",
    "                                     )\n",
    "elif config.dataset == 'emoji': \n",
    "    train_dataset = datasets.ImageFolder(config.data_path,\n",
    "                                         transform=config.augmentation\n",
    "                                     )\n",
    "\n",
    "print(config.dataset)\n",
    "    \n",
    "\"\"\"\n",
    "training set을 Dataloader에 넣습니다. \n",
    "\"\"\"\n",
    "train_loader = DataLoader(train_dataset, batch_size=config.batch_size, shuffle=True, num_workers = 2)\n",
    "print(train_dataset)"
   ]
  },
  {
   "cell_type": "code",
   "execution_count": 11,
   "id": "71e22dc8",
   "metadata": {},
   "outputs": [
    {
     "data": {
      "text/plain": [
       "13824"
      ]
     },
     "execution_count": 11,
     "metadata": {},
     "output_type": "execute_result"
    }
   ],
   "source": [
    "len(train_dataset)"
   ]
  },
  {
   "cell_type": "code",
   "execution_count": 12,
   "id": "e2c95863",
   "metadata": {},
   "outputs": [],
   "source": [
    "img, label = train_dataset[0]"
   ]
  },
  {
   "cell_type": "code",
   "execution_count": 13,
   "id": "634dcb5f",
   "metadata": {},
   "outputs": [
    {
     "data": {
      "text/plain": [
       "<matplotlib.image.AxesImage at 0x1cbebbd2910>"
      ]
     },
     "execution_count": 13,
     "metadata": {},
     "output_type": "execute_result"
    },
    {
     "data": {
      "image/png": "[encoded data removed]",
      "text/plain": [
       "<Figure size 640x480 with 1 Axes>"
      ]
     },
     "metadata": {},
     "output_type": "display_data"
    }
   ],
   "source": [
    "plt.imshow(to_pil_image(0.5*img+0.5))"
   ]
  },
  {
   "cell_type": "markdown",
   "id": "4ff42e1c",
   "metadata": {},
   "source": [
    "## custom data\n",
    "\n",
    "로컬 디렉토리 image 가져오기"
   ]
  },
  {
   "cell_type": "code",
   "execution_count": 14,
   "id": "91ffa123",
   "metadata": {},
   "outputs": [],
   "source": [
    "import urllib.request\n",
    "import zipfile\n",
    "import glob"
   ]
  },
  {
   "cell_type": "code",
   "execution_count": 15,
   "id": "688ba052",
   "metadata": {},
   "outputs": [
    {
     "data": {
      "text/plain": [
       "[]"
      ]
     },
     "execution_count": 15,
     "metadata": {},
     "output_type": "execute_result"
    }
   ],
   "source": [
    "data_path = ''\n",
    "glob.glob('data/resource/emoji/*')[:20]"
   ]
  },
  {
   "cell_type": "code",
   "execution_count": 16,
   "id": "a936d8f3",
   "metadata": {},
   "outputs": [
    {
     "data": {
      "text/plain": [
       "<torch.utils.data.dataloader.DataLoader at 0x1cbe58b7b80>"
      ]
     },
     "execution_count": 16,
     "metadata": {},
     "output_type": "execute_result"
    }
   ],
   "source": [
    "train_loader"
   ]
  },
  {
   "cell_type": "markdown",
   "id": "6ba67a4c",
   "metadata": {
    "id": "6ba67a4c"
   },
   "source": [
    "## GAN model"
   ]
  },
  {
   "cell_type": "code",
   "execution_count": 17,
   "id": "9e81de91",
   "metadata": {},
   "outputs": [
    {
     "data": {
      "text/plain": [
       "(3, 64, 64)"
      ]
     },
     "execution_count": 17,
     "metadata": {},
     "output_type": "execute_result"
    }
   ],
   "source": [
    "config.img_shape"
   ]
  },
  {
   "cell_type": "code",
   "execution_count": 18,
   "id": "7f3608b5",
   "metadata": {
    "id": "7f3608b5"
   },
   "outputs": [],
   "source": [
    "\"\"\"\n",
    " 일반적으로, GAN에서는 loss가 Discriminator에서부터 Generator로 흐를 때 생길 수 있는 \n",
    " vanishing gradient 현상을 완화하기 위해 Leaky ReLU를 많이 사용합니다. \n",
    "\"\"\"\n",
    "class Generator(nn.Module): # 입력으로 noise를 받음\n",
    "    def __init__(self, config):\n",
    "        super().__init__()\n",
    "\n",
    "        mu = 2 * torch.rand(config.latent_size) - 1\n",
    "        mu.requires_grad = True\n",
    "        self.mu = nn.Parameter(mu)\n",
    "        sigma = 0.2 * torch.ones(config.latent_size)\n",
    "        sigma.requires_grad = True\n",
    "        self.sigma = nn.Parameter(sigma)\n",
    "        \n",
    "        \n",
    "        self.dconv1 = nn.ConvTranspose2d(config.latent_size, config.ngf*8, 4, stride=1, padding=0)\n",
    "        self.bn1 = nn.BatchNorm2d(config.ngf*8)\n",
    "        #62\n",
    "            \n",
    "        self.dconv2 = nn.ConvTranspose2d(config.ngf*8, config.ngf*4, 4, stride=2, padding=1)\n",
    "        self.bn2 = nn.BatchNorm2d(config.ngf*4)\n",
    "        #15   \n",
    "            \n",
    "        self.dconv3 = nn.ConvTranspose2d(config.ngf*4, config.ngf*2, 4, stride=2, padding=1)\n",
    "        self.bn3 = nn.BatchNorm2d(config.ngf*2)\n",
    "            \n",
    "        self.dconv4 = nn.ConvTranspose2d(config.ngf*2, config.ngf,4,stride=2,padding=1)\n",
    "        self.bn4 = nn.BatchNorm2d(config.ngf)\n",
    "            \n",
    "        self.dconv5 = nn.ConvTranspose2d(config.ngf, config.img_shape[0], 4,stride=2, padding=1)\n",
    "        \n",
    "    def forward(self, z):\n",
    "        #print(z)\n",
    "        idx = torch.randint(0, self.mu.size(0), z.size())\n",
    "        #print(idx)\n",
    "        z = z * self.sigma[idx] + self.mu[idx]\n",
    "        #print(z)\n",
    "        z = z.view(-1, 100, 1, 1)\n",
    "        #print(z)\n",
    "        \n",
    "        x = F.leaky_relu(self.bn1(self.dconv1(z)), 0.2)\n",
    "        x = F.leaky_relu(self.bn2(self.dconv2(x)), 0.2)\n",
    "        x = F.leaky_relu(self.bn3(self.dconv3(x)), 0.2)\n",
    "        x = F.leaky_relu(self.bn4(self.dconv4(x)), 0.2)\n",
    "        x = torch.tanh(self.dconv5(x))\n",
    "        #img = img.reshape(img.shape[0], *config.img_shape)\n",
    "        return x"
   ]
  },
  {
   "cell_type": "code",
   "execution_count": 19,
   "id": "c10c2717",
   "metadata": {
    "id": "c10c2717"
   },
   "outputs": [],
   "source": [
    "class Discriminator(nn.Module):\n",
    "    def __init__(self, config):\n",
    "        super().__init__()\n",
    "        self.conv1 = nn.Conv2d(config.img_shape[0],config.ndf,4,stride=2,padding=1,bias=False)\n",
    "        self.conv2 = nn.Conv2d(config.ndf,config.ndf*2,4,stride=2,padding=1,bias=False)\n",
    "        self.bn2 = nn.BatchNorm2d(config.ndf*2)\n",
    "        \n",
    "        self.conv3 = nn.Conv2d(config.ndf*2, config.ndf*4,4,stride=2,padding=1,bias=False)\n",
    "        self.bn3 = nn.BatchNorm2d(config.ndf*4)\n",
    "        \n",
    "        self.conv4 = nn.Conv2d(config.ndf*4,config.ndf*8,4,stride=2,padding=1,bias=False)\n",
    "        self.bn4 = nn.BatchNorm2d(config.ndf*8)\n",
    "        \n",
    "        self.conv5 = nn.Conv2d(config.ndf*8,1,4,stride=1,padding=0,bias=False)\n",
    "\n",
    "    def forward(self,x):\n",
    "        x = F.leaky_relu(self.conv1(x),0.2)\n",
    "        x = F.leaky_relu(self.bn2(self.conv2(x)),0.2)\n",
    "        x = F.leaky_relu(self.bn3(self.conv3(x)),0.2)\n",
    "        x = F.leaky_relu(self.bn4(self.conv4(x)),0.2)\n",
    "        x = torch.sigmoid(self.conv5(x))\n",
    "        return x.view(-1,1)"
   ]
  },
  {
   "cell_type": "markdown",
   "id": "3b9dc4bf",
   "metadata": {
    "id": "3b9dc4bf"
   },
   "source": [
    "#### Binary Cross Entropy loss between the target and the input probabilities"
   ]
  },
  {
   "cell_type": "markdown",
   "id": "9684f084",
   "metadata": {
    "id": "9684f084"
   },
   "source": [
    "- [torch.nn.BCELoss](https://pytorch.org/docs/stable/generated/torch.nn.BCELoss.html)"
   ]
  },
  {
   "cell_type": "code",
   "execution_count": 20,
   "id": "fd9eac2a",
   "metadata": {
    "id": "fd9eac2a"
   },
   "outputs": [],
   "source": [
    "\"\"\"\n",
    "binary cross entropy loss를 사용하여 adversarial loss를 구현합니다.\n",
    "\"\"\"\n",
    "criterion = nn.BCELoss()\n",
    "\n",
    "\"\"\"\n",
    "Generator와 Discriminator를 각각 정의하고, 상응하는 optimizer도 함께 정의합니다.\n",
    "\"\"\"\n",
    "generator = Generator(config).to(config.device)\n",
    "discriminator = Discriminator(config).to(config.device)\n",
    "\n",
    "optimizer_g = torch.optim.Adam(generator.parameters(), lr=config.learning_rate, betas=(config.b1, config.b2))\n",
    "optimizer_d = torch.optim.Adam(discriminator.parameters(), lr=config.learning_rate, betas=(config.b1, config.b2))"
   ]
  },
  {
   "cell_type": "markdown",
   "id": "b200b0b3",
   "metadata": {
    "id": "b200b0b3"
   },
   "source": [
    "## Training"
   ]
  },
  {
   "cell_type": "code",
   "execution_count": null,
   "id": "482c07e6",
   "metadata": {
    "colab": {
     "referenced_widgets": [
      "ef5466833de7413dac10e9bce3d17184"
     ]
    },
    "id": "482c07e6",
    "outputId": "61603b83-f92e-4e40-c146-eabf74bb5b65",
    "scrolled": true
   },
   "outputs": [
    {
     "data": {
      "application/vnd.jupyter.widget-view+json": {
       "model_id": "819d0dfc93524638a3f1784e6aea8c67",
       "version_major": 2,
       "version_minor": 0
      },
      "text/plain": [
       "  0%|          | 0/200 [00:00<?, ?it/s]"
      ]
     },
     "metadata": {},
     "output_type": "display_data"
    },
    {
     "name": "stdout",
     "output_type": "stream",
     "text": [
      "Epoch [1/200] Batch [70/70] Discriminator loss: 4.3071 Generator loss: 0.1147\n",
      "Epoch [2/200] Batch [70/70] Discriminator loss: 7.5536 Generator loss: 0.0049\n",
      "Epoch [3/200] Batch [70/70] Discriminator loss: 4.5067 Generator loss: 0.0270\n",
      "Epoch [4/200] Batch [70/70] Discriminator loss: 27.5924 Generator loss: 2.6191\n",
      "Epoch [5/200] Batch [70/70] Discriminator loss: 15.3240 Generator loss: 0.0003\n",
      "Epoch [6/200] Batch [70/70] Discriminator loss: 7.7302 Generator loss: 0.0101\n",
      "Epoch [7/200] Batch [70/70] Discriminator loss: 9.6036 Generator loss: 1.4095\n",
      "Epoch [8/200] Batch [70/70] Discriminator loss: 6.4758 Generator loss: 0.2428\n",
      "Epoch [9/200] Batch [70/70] Discriminator loss: 6.9509 Generator loss: 1.3753\n",
      "Epoch [10/200] Batch [70/70] Discriminator loss: 9.7883 Generator loss: 0.1612\n",
      "Epoch [11/200] Batch [70/70] Discriminator loss: 13.3447 Generator loss: 0.8676\n",
      "Epoch [12/200] Batch [70/70] Discriminator loss: 8.1909 Generator loss: 0.1057\n",
      "Epoch [13/200] Batch [70/70] Discriminator loss: 6.4655 Generator loss: 0.0101\n",
      "Epoch [14/200] Batch [70/70] Discriminator loss: 5.6215 Generator loss: 0.0176\n",
      "Epoch [15/200] Batch [70/70] Discriminator loss: 6.5719 Generator loss: 0.0448\n",
      "Epoch [16/200] Batch [70/70] Discriminator loss: 5.8802 Generator loss: 0.0437\n",
      "Epoch [17/200] Batch [70/70] Discriminator loss: 4.9171 Generator loss: 0.3491\n",
      "Epoch [18/200] Batch [70/70] Discriminator loss: 4.6964 Generator loss: 0.0563\n",
      "Epoch [19/200] Batch [70/70] Discriminator loss: 8.1546 Generator loss: 0.0050\n",
      "Epoch [20/200] Batch [70/70] Discriminator loss: 10.3552 Generator loss: 0.0030\n",
      "Epoch [21/200] Batch [70/70] Discriminator loss: 9.6475 Generator loss: 3.4055\n",
      "Epoch [22/200] Batch [70/70] Discriminator loss: 5.3423 Generator loss: 0.1732\n",
      "Epoch [23/200] Batch [70/70] Discriminator loss: 3.5957 Generator loss: 0.5177\n",
      "Epoch [24/200] Batch [70/70] Discriminator loss: 7.2072 Generator loss: 0.0558\n",
      "Epoch [25/200] Batch [70/70] Discriminator loss: 5.3963 Generator loss: 0.0386\n",
      "Epoch [26/200] Batch [70/70] Discriminator loss: 4.6233 Generator loss: 0.0159\n",
      "Epoch [27/200] Batch [70/70] Discriminator loss: 5.3414 Generator loss: 0.4136\n",
      "Epoch [28/200] Batch [70/70] Discriminator loss: 4.6460 Generator loss: 0.0940\n",
      "Epoch [29/200] Batch [70/70] Discriminator loss: 6.7806 Generator loss: 0.0539\n",
      "Epoch [30/200] Batch [70/70] Discriminator loss: 9.0858 Generator loss: 0.1376\n",
      "Epoch [31/200] Batch [70/70] Discriminator loss: 5.9935 Generator loss: 2.5953\n",
      "Epoch [32/200] Batch [70/70] Discriminator loss: 7.0650 Generator loss: 0.0211\n",
      "Epoch [33/200] Batch [70/70] Discriminator loss: 7.2711 Generator loss: 0.0121\n",
      "Epoch [34/200] Batch [70/70] Discriminator loss: 2.2972 Generator loss: 0.1133\n",
      "Epoch [35/200] Batch [70/70] Discriminator loss: 5.0711 Generator loss: 0.0388\n",
      "Epoch [36/200] Batch [70/70] Discriminator loss: 6.4373 Generator loss: 0.0143\n",
      "Epoch [37/200] Batch [70/70] Discriminator loss: 5.7823 Generator loss: 0.0135\n",
      "Epoch [38/200] Batch [70/70] Discriminator loss: 3.1362 Generator loss: 0.0371\n",
      "Epoch [39/200] Batch [70/70] Discriminator loss: 7.9450 Generator loss: 0.0170\n",
      "Epoch [40/200] Batch [70/70] Discriminator loss: 6.5431 Generator loss: 0.0161\n",
      "Epoch [41/200] Batch [70/70] Discriminator loss: 7.5763 Generator loss: 0.0063\n",
      "Epoch [42/200] Batch [70/70] Discriminator loss: 8.3679 Generator loss: 0.0005\n",
      "Epoch [43/200] Batch [70/70] Discriminator loss: 14.4329 Generator loss: 0.0012\n",
      "Epoch [44/200] Batch [70/70] Discriminator loss: 10.4710 Generator loss: 0.0005\n",
      "Epoch [45/200] Batch [70/70] Discriminator loss: 6.6365 Generator loss: 0.0140\n",
      "Epoch [46/200] Batch [70/70] Discriminator loss: 9.2099 Generator loss: 0.0006\n",
      "Epoch [47/200] Batch [70/70] Discriminator loss: 7.6220 Generator loss: 0.0041\n",
      "Epoch [48/200] Batch [70/70] Discriminator loss: 8.6517 Generator loss: 0.0084\n",
      "Epoch [49/200] Batch [70/70] Discriminator loss: 38.6797 Generator loss: 0.0001\n",
      "Epoch [50/200] Batch [70/70] Discriminator loss: 36.8187 Generator loss: 0.0011\n",
      "Epoch [51/200] Batch [70/70] Discriminator loss: 4.5696 Generator loss: 0.0716\n",
      "Epoch [52/200] Batch [70/70] Discriminator loss: 4.4496 Generator loss: 0.0552\n",
      "Epoch [53/200] Batch [70/70] Discriminator loss: 9.9600 Generator loss: 0.0021\n",
      "Epoch [54/200] Batch [70/70] Discriminator loss: 4.9420 Generator loss: 0.0545\n",
      "Epoch [55/200] Batch [70/70] Discriminator loss: 6.7075 Generator loss: 0.0170\n",
      "Epoch [56/200] Batch [70/70] Discriminator loss: 6.3050 Generator loss: 0.0169\n",
      "Epoch [57/200] Batch [70/70] Discriminator loss: 6.0551 Generator loss: 0.0114\n",
      "Epoch [58/200] Batch [70/70] Discriminator loss: 9.4851 Generator loss: 0.0012\n",
      "Epoch [59/200] Batch [70/70] Discriminator loss: 8.6619 Generator loss: 0.0090\n",
      "Epoch [60/200] Batch [70/70] Discriminator loss: 10.5974 Generator loss: 0.0048\n",
      "Epoch [61/200] Batch [70/70] Discriminator loss: 22.7505 Generator loss: 0.1006\n",
      "Epoch [62/200] Batch [70/70] Discriminator loss: 8.0190 Generator loss: 0.0260\n",
      "Epoch [63/200] Batch [70/70] Discriminator loss: 16.7968 Generator loss: 0.0088\n",
      "Epoch [64/200] Batch [70/70] Discriminator loss: 7.5585 Generator loss: 0.0049\n",
      "Epoch [65/200] Batch [70/70] Discriminator loss: 6.6620 Generator loss: 0.0073\n",
      "Epoch [66/200] Batch [70/70] Discriminator loss: 7.7310 Generator loss: 0.0034\n",
      "Epoch [67/200] Batch [70/70] Discriminator loss: 13.7727 Generator loss: 0.0025\n",
      "Epoch [68/200] Batch [70/70] Discriminator loss: 3.6632 Generator loss: 0.0210\n",
      "Epoch [69/200] Batch [70/70] Discriminator loss: 6.9517 Generator loss: 0.0091\n",
      "Epoch [70/200] Batch [70/70] Discriminator loss: 8.2365 Generator loss: 0.0031\n",
      "Epoch [71/200] Batch [70/70] Discriminator loss: 7.5810 Generator loss: 0.0025\n",
      "Epoch [72/200] Batch [70/70] Discriminator loss: 10.8259 Generator loss: 0.0026\n",
      "Epoch [73/200] Batch [70/70] Discriminator loss: 0.0004 Generator loss: 0.1705\n",
      "Epoch [74/200] Batch [70/70] Discriminator loss: 35.9103 Generator loss: 0.0255\n",
      "Epoch [75/200] Batch [70/70] Discriminator loss: 48.4047 Generator loss: 0.0000\n",
      "Epoch [76/200] Batch [70/70] Discriminator loss: 8.2830 Generator loss: 0.0131\n",
      "Epoch [77/200] Batch [70/70] Discriminator loss: 7.6134 Generator loss: 0.0060\n",
      "Epoch [78/200] Batch [70/70] Discriminator loss: 14.0537 Generator loss: 0.0632\n",
      "Epoch [79/200] Batch [70/70] Discriminator loss: 9.3268 Generator loss: 0.0048\n",
      "Epoch [80/200] Batch [70/70] Discriminator loss: 1.7014 Generator loss: 0.0793\n",
      "Epoch [81/200] Batch [70/70] Discriminator loss: 17.0872 Generator loss: 3.3481\n",
      "Epoch [82/200] Batch [70/70] Discriminator loss: 5.2121 Generator loss: 1.4221\n",
      "Epoch [83/200] Batch [70/70] Discriminator loss: 3.9278 Generator loss: 2.2532\n",
      "Epoch [84/200] Batch [70/70] Discriminator loss: 6.1555 Generator loss: 2.9186\n",
      "Epoch [85/200] Batch [70/70] Discriminator loss: 2.7244 Generator loss: 0.0756\n",
      "Epoch [86/200] Batch [70/70] Discriminator loss: 7.3892 Generator loss: 0.0025\n",
      "Epoch [87/200] Batch [70/70] Discriminator loss: 6.7823 Generator loss: 2.6615\n",
      "Epoch [88/200] Batch [70/70] Discriminator loss: 17.6799 Generator loss: 0.0051\n",
      "Epoch [89/200] Batch [70/70] Discriminator loss: 0.6226 Generator loss: 0.0754\n",
      "Epoch [90/200] Batch [70/70] Discriminator loss: 6.1067 Generator loss: 0.0941\n",
      "Epoch [91/200] Batch [70/70] Discriminator loss: 11.5318 Generator loss: 0.0275\n",
      "Epoch [92/200] Batch [70/70] Discriminator loss: 8.6245 Generator loss: 0.0015\n",
      "Epoch [93/200] Batch [70/70] Discriminator loss: 9.5708 Generator loss: 0.0084\n",
      "Epoch [94/200] Batch [70/70] Discriminator loss: 6.7115 Generator loss: 0.0058\n",
      "Epoch [95/200] Batch [70/70] Discriminator loss: 0.0115 Generator loss: 0.4129\n",
      "Epoch [96/200] Batch [70/70] Discriminator loss: 3.5696 Generator loss: 0.0477\n",
      "Epoch [97/200] Batch [70/70] Discriminator loss: 8.5863 Generator loss: 0.0030\n",
      "Epoch [98/200] Batch [70/70] Discriminator loss: 8.0134 Generator loss: 0.0037\n",
      "Epoch [99/200] Batch [70/70] Discriminator loss: 11.4958 Generator loss: 0.0001\n",
      "Epoch [100/200] Batch [70/70] Discriminator loss: 9.4991 Generator loss: 0.0024\n",
      "Epoch [101/200] Batch [70/70] Discriminator loss: 0.5013 Generator loss: 0.1833\n",
      "Epoch [102/200] Batch [70/70] Discriminator loss: 3.5241 Generator loss: 0.0793\n",
      "Epoch [103/200] Batch [70/70] Discriminator loss: 6.7221 Generator loss: 0.0119\n",
      "Epoch [104/200] Batch [70/70] Discriminator loss: 6.2815 Generator loss: 0.0171\n"
     ]
    },
    {
     "name": "stdout",
     "output_type": "stream",
     "text": [
      "Epoch [105/200] Batch [70/70] Discriminator loss: 7.1857 Generator loss: 0.0116\n",
      "Epoch [106/200] Batch [70/70] Discriminator loss: 10.1031 Generator loss: 0.0247\n",
      "Epoch [107/200] Batch [70/70] Discriminator loss: 12.5157 Generator loss: 0.0005\n",
      "Epoch [108/200] Batch [70/70] Discriminator loss: 0.5058 Generator loss: 0.2065\n",
      "Epoch [109/200] Batch [70/70] Discriminator loss: 6.4644 Generator loss: 0.0254\n",
      "Epoch [110/200] Batch [70/70] Discriminator loss: 13.5487 Generator loss: 0.0053\n",
      "Epoch [111/200] Batch [70/70] Discriminator loss: 11.0934 Generator loss: 0.0082\n",
      "Epoch [112/200] Batch [70/70] Discriminator loss: 4.8348 Generator loss: 0.0256\n",
      "Epoch [113/200] Batch [70/70] Discriminator loss: 6.3043 Generator loss: 0.0135\n",
      "Epoch [114/200] Batch [70/70] Discriminator loss: 1.0269 Generator loss: 0.0753\n",
      "Epoch [115/200] Batch [70/70] Discriminator loss: 8.3743 Generator loss: 0.0126\n",
      "Epoch [116/200] Batch [70/70] Discriminator loss: 2.8136 Generator loss: 0.1225\n",
      "Epoch [117/200] Batch [70/70] Discriminator loss: 2.0030 Generator loss: 0.2065\n",
      "Epoch [118/200] Batch [70/70] Discriminator loss: 6.9030 Generator loss: 0.0049\n",
      "Epoch [119/200] Batch [70/70] Discriminator loss: 9.9875 Generator loss: 0.0006\n",
      "Epoch [120/200] Batch [70/70] Discriminator loss: 6.3406 Generator loss: 0.0572\n",
      "Epoch [121/200] Batch [70/70] Discriminator loss: 8.6502 Generator loss: 0.0044\n",
      "Epoch [122/200] Batch [70/70] Discriminator loss: 0.3303 Generator loss: 0.2645\n",
      "Epoch [123/200] Batch [70/70] Discriminator loss: 6.3177 Generator loss: 0.0077\n",
      "Epoch [124/200] Batch [70/70] Discriminator loss: 5.6558 Generator loss: 0.0061\n",
      "Epoch [125/200] Batch [70/70] Discriminator loss: 7.6411 Generator loss: 0.0114\n",
      "Epoch [126/200] Batch [70/70] Discriminator loss: 7.3868 Generator loss: 0.0029\n"
     ]
    }
   ],
   "source": [
    "\"\"\"\n",
    "Generator와 Discriminator를 번갈아 학습합니다.\n",
    "\"\"\"\n",
    "g_loss_list = []\n",
    "d_loss_list = []\n",
    "for epoch in tqdm(range(config.n_epoch)):\n",
    "    for i, (real_img, _) in enumerate(train_loader):\n",
    "        # 실제 이미지\n",
    "        real_img = real_img.to(config.device)\n",
    "        \n",
    "        optimizer_d.zero_grad()\n",
    "        \n",
    "        #label\n",
    "        valid_label = torch.ones((real_img.shape[0], 1), device=config.device, dtype=torch.float32)\n",
    "        fake_label = torch.zeros((real_img.shape[0], 1), device=config.device, dtype=torch.float32)\n",
    "        \n",
    "        # ====================================================#\n",
    "        #                Train Discriminator                  #\n",
    "        # ====================================================#\n",
    "\n",
    "        \n",
    "        #latent 생성\n",
    "        z = torch.randn((real_img.shape[0], config.latent_size,1,1), device=config.device, dtype=torch.float32)\n",
    "        gen_img = generator(z)\n",
    "        \n",
    "\n",
    "        ## D loss\n",
    "        real_loss = criterion(discriminator(real_img), valid_label)\n",
    "        # G_loss\n",
    "        fake_loss = criterion(discriminator(gen_img.detach()), fake_label) # detach generator는 가중치 업데이트 안함\n",
    "\n",
    "        d_loss = (real_loss + fake_loss) * 0.5\n",
    "\n",
    "        \n",
    "        d_loss.backward() # 여기서 grediant가 업데이트 안됨\n",
    "        optimizer_d.step()\n",
    "   \n",
    "            \n",
    "\n",
    "        \n",
    "        # ====================================================#\n",
    "        #                   Train Generator                   #\n",
    "        # ====================================================#\n",
    "\n",
    "\n",
    "        \"\"\"\n",
    "        Generator가 Discriminator를 속일 수 있는지 loss를 계산합니다.\n",
    "        \"\"\"\n",
    "\n",
    "        g_loss = criterion(discriminator(gen_img), valid_label) #valid_label로 하여 generator를 학습하게 함\n",
    "   \n",
    "        \n",
    "        \"\"\"\n",
    "        Generator를 업데이트합니다.\n",
    "        \"\"\"\n",
    "        optimizer_g.zero_grad()\n",
    "        g_loss.backward()\n",
    "        optimizer_g.step()\n",
    "    \n",
    "  \n",
    "        if (i+1) % config.log_interval == 0:\n",
    "            g_loss_list.append(g_loss.item())\n",
    "            d_loss_list.append(d_loss.item())\n",
    "            print('Epoch [{}/{}] Batch [{}/{}] Discriminator loss: {:.4f} Generator loss: {:.4f}'.format(\n",
    "                epoch+1,\n",
    "                config.n_epoch,\n",
    "                i+1,\n",
    "                len(train_loader),\n",
    "                g_loss.item(),\n",
    "                d_loss.item()\n",
    "            ))\n",
    "                \n",
    "            \n",
    "    if (epoch+1) % config.save_interval == 0:\n",
    "        save_path = os.path.join(config.save_path, config.dataset, 'epoch_[{0:-03d}]_.png'.format(\n",
    "            epoch+1\n",
    "        ))\n",
    "        gen_img = config.denormalize(gen_img)\n",
    "        torchvision.utils.save_image(gen_img.data[:16], save_path, nrow=4, normalize=True)"
   ]
  },
  {
   "cell_type": "code",
   "execution_count": null,
   "id": "0e0658ce",
   "metadata": {
    "id": "0e0658ce",
    "outputId": "f697deea-a400-44f8-8133-0bc0b179596c"
   },
   "outputs": [],
   "source": [
    "plt.title('GAN training loss on {} data'.format(config.dataset))\n",
    "plt.plot(g_loss_list, label='generator loss')\n",
    "plt.plot(d_loss_1_list, label='discriminator_1 loss')\n",
    "plt.plot(d_loss_2_list, label='discriminator_2 loss')\n",
    "plt.legend()\n",
    "plt.show()"
   ]
  },
  {
   "cell_type": "markdown",
   "id": "3b18473b",
   "metadata": {
    "id": "3b18473b"
   },
   "source": [
    "## Qualitative results"
   ]
  },
  {
   "cell_type": "code",
   "execution_count": null,
   "id": "db1b0509",
   "metadata": {
    "id": "db1b0509",
    "outputId": "71f5ad53-0e15-4dd8-ac74-29a7126017ee",
    "scrolled": false
   },
   "outputs": [],
   "source": [
    "save_path = os.path.join(config.save_path, config.dataset)\n",
    "for image_path in os.listdir(save_path):\n",
    "    if image_path.endswith('.png'):\n",
    "        plt.figure(figsize=(5,5))\n",
    "        image = Image.open(os.path.join(save_path, image_path))\n",
    "        plt.title(image_path)\n",
    "        plt.imshow(image)\n",
    "        plt.show()"
   ]
  },
  {
   "cell_type": "code",
   "execution_count": null,
   "id": "1ee394e6",
   "metadata": {
    "id": "1ee394e6"
   },
   "outputs": [],
   "source": []
  }
 ],
 "metadata": {
  "colab": {
   "provenance": []
  },
  "kernelspec": {
   "display_name": "basis_3.8",
   "language": "python",
   "name": "basis_3.8"
  },
  "language_info": {
   "codemirror_mode": {
    "name": "ipython",
    "version": 3
   },
   "file_extension": ".py",
   "mimetype": "text/x-python",
   "name": "python",
   "nbconvert_exporter": "python",
   "pygments_lexer": "ipython3",
   "version": "3.8.13"
  },
  "vscode": {
   "interpreter": {
    "hash": "e361de83e42006260aed2b055f8f04aac5dcd7e3eec4c7f8d8ccd6db537cc702"
   }
  }
 },
 "nbformat": 4,
 "nbformat_minor": 5
}
