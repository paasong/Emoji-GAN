{
 "cells": [
  {
   "cell_type": "markdown",
   "id": "8eeafda3",
   "metadata": {
    "id": "8eeafda3"
   },
   "source": [
    "## Library"
   ]
  },
  {
   "cell_type": "code",
   "execution_count": 1,
   "id": "146280a7",
   "metadata": {
    "id": "146280a7"
   },
   "outputs": [],
   "source": [
    "import os\n",
    "#os.environ['CUDA_VISIBLE_DEVICES'] = '1'\n",
    "import numpy as np\n",
    "import math\n",
    "from PIL import Image\n",
    "import matplotlib.pyplot as plt\n",
    "from tqdm.notebook import tqdm"
   ]
  },
  {
   "cell_type": "code",
   "execution_count": 2,
   "id": "3d08cc45",
   "metadata": {
    "id": "3d08cc45"
   },
   "outputs": [],
   "source": [
    "import torch\n",
    "import torch.nn as nn\n",
    "import torch.nn.functional as F\n",
    "import torchvision\n",
    "from torchvision.transforms.functional import to_pil_image\n",
    "from torchvision import datasets\n",
    "from torchvision import models\n",
    "from torchvision import transforms\n",
    "from torch.utils.data import DataLoader"
   ]
  },
  {
   "cell_type": "code",
   "execution_count": 3,
   "id": "e21bcf72",
   "metadata": {},
   "outputs": [
    {
     "data": {
      "text/plain": [
       "'1.13.1+cu117'"
      ]
     },
     "execution_count": 3,
     "metadata": {},
     "output_type": "execute_result"
    }
   ],
   "source": [
    "torch.__version__    "
   ]
  },
  {
   "cell_type": "code",
   "execution_count": 4,
   "id": "a3a7b594",
   "metadata": {},
   "outputs": [
    {
     "data": {
      "text/plain": [
       "True"
      ]
     },
     "execution_count": 4,
     "metadata": {},
     "output_type": "execute_result"
    }
   ],
   "source": [
    "torch.cuda.is_available()"
   ]
  },
  {
   "cell_type": "code",
   "execution_count": 5,
   "id": "5657cabb",
   "metadata": {},
   "outputs": [
    {
     "data": {
      "text/plain": [
       "<torch._C.Generator at 0x2abc1cc0830>"
      ]
     },
     "execution_count": 5,
     "metadata": {},
     "output_type": "execute_result"
    }
   ],
   "source": [
    "torch.manual_seed(2023)"
   ]
  },
  {
   "cell_type": "markdown",
   "id": "36f13e0f",
   "metadata": {
    "id": "36f13e0f"
   },
   "source": [
    "## Hyperparameters"
   ]
  },
  {
   "cell_type": "code",
   "execution_count": 6,
   "id": "d9dc5324",
   "metadata": {
    "id": "d9dc5324"
   },
   "outputs": [],
   "source": [
    "\"\"\"\n",
    "학습에 사용될 hyperparameter 값들을 넣을 class를 정의합니다.\n",
    "\"\"\"\n",
    "class AttrDict(dict):\n",
    "    def __init__(self, *args, **kwargs):\n",
    "        super(AttrDict, self).__init__(*args, **kwargs)\n",
    "        self.__dict__ = self"
   ]
  },
  {
   "cell_type": "code",
   "execution_count": 7,
   "id": "bb580a80",
   "metadata": {
    "id": "bb580a80"
   },
   "outputs": [],
   "source": [
    "\"\"\"\n",
    "GAN model 학습에 사용되는 결과 이미지 저장 경로, 에포크 수, 모델 입력 이미지 크기 등을 정의합니다.\n",
    "\"\"\"\n",
    "config = AttrDict()\n",
    "config.data_path = 'data/resource/' \n",
    "config.save_path = 'save/DCGAN_64_latent/'\n",
    "config.dataset = 'emoji' #CIFAR10 어떠한 데이터셋을 사용하는지\n",
    "#config.dataset = 'CIFAR10' #CIFAR10 어떠한 데이터셋을 사용하는지\n",
    "\n",
    "config.n_epoch = 200\n",
    "config.log_interval = 59 # loss 출력\n",
    "config.save_interval = 10  # 이미지 출력\n",
    "config.batch_size = 150\n",
    "\n",
    "config.nz = 100\n",
    "config.ngf = 128 # generator oonv filter\n",
    "config.ndf = 128 # discriminator oonv fillter\n",
    "\n",
    "config.learning_rate = 0.001\n",
    "config.b1 = 0.5\n",
    "config.b2 = 0.999\n",
    "config.img_shape = (3, 64, 64) # c, w, h\n",
    "config.latent_size = 1 # random noise size\n",
    "\"\"\"\n",
    "모델 입력 이미지에 수행할 normalization과 모델 생성 결과 이미지에 수행할 denormalization을 정의합니다.\n",
    "\"\"\"\n",
    "config.augmentation = transforms.Compose([\n",
    "                        transforms.Resize((config.img_shape[1], config.img_shape[2])), #resize\n",
    "                        transforms.ToTensor(),\n",
    "                        transforms.Normalize(mean=[0.5], std=[0.5]) #normalization\n",
    "                      ])\n",
    "config.denormalize = lambda x: x*0.5+0.5 #denormalization 위의 단계 reverse , 원래의 이미지를 보기 위해 수행함\n",
    "\n",
    "config.device = torch.device('cuda' if torch.cuda.is_available() else 'cpu') #cuda에 올리기"
   ]
  },
  {
   "cell_type": "code",
   "execution_count": 8,
   "id": "b950712e",
   "metadata": {
    "id": "b950712e"
   },
   "outputs": [],
   "source": [
    "#지정된 경로의 데이터셋 가져오기 및 저장\n",
    "if not os.path.isdir(config.data_path):\n",
    "    os.makedirs(config.data_path)\n",
    "if not os.path.isdir(os.path.join(config.save_path, config.dataset)):\n",
    "    os.makedirs(os.path.join(config.save_path, config.dataset))"
   ]
  },
  {
   "cell_type": "code",
   "execution_count": 9,
   "id": "29018cfd",
   "metadata": {
    "id": "29018cfd",
    "outputId": "38d86d46-3dc3-4e0f-ad44-7efd5d9a3da3"
   },
   "outputs": [
    {
     "data": {
      "text/plain": [
       "device(type='cuda')"
      ]
     },
     "execution_count": 9,
     "metadata": {},
     "output_type": "execute_result"
    }
   ],
   "source": [
    "config.device"
   ]
  },
  {
   "cell_type": "markdown",
   "id": "3fbc2c6a",
   "metadata": {
    "id": "3fbc2c6a"
   },
   "source": [
    "## Data load"
   ]
  },
  {
   "cell_type": "code",
   "execution_count": 10,
   "id": "12be5c3b",
   "metadata": {
    "id": "12be5c3b",
    "outputId": "233c623f-3f2e-4b90-df50-14f3ea03ab33"
   },
   "outputs": [
    {
     "name": "stdout",
     "output_type": "stream",
     "text": [
      "emoji\n",
      "Dataset ImageFolder\n",
      "    Number of datapoints: 8717\n",
      "    Root location: data/resource/\n",
      "    StandardTransform\n",
      "Transform: Compose(\n",
      "               Resize(size=(64, 64), interpolation=bilinear, max_size=None, antialias=None)\n",
      "               ToTensor()\n",
      "               Normalize(mean=[0.5], std=[0.5])\n",
      "           )\n"
     ]
    }
   ],
   "source": [
    "\"\"\"\n",
    "MNIST와 CIFAR-10은 torchvision 라이브러리에서 제공하여 아래와 같이 사용할 수 있습니다.\n",
    "\"\"\"\n",
    "if config.dataset == 'MNIST':\n",
    "    train_dataset = datasets.MNIST(config.data_path,\n",
    "                                    train=True,\n",
    "                                    download=True,\n",
    "                                    transform=config.augmentation\n",
    "                                  ) \n",
    "elif config.dataset == 'CIFAR10': \n",
    "    train_dataset = datasets.CIFAR10(config.data_path,\n",
    "                                       train=True,\n",
    "                                       download=True,\n",
    "                                       transform=config.augmentation\n",
    "                                     )\n",
    "elif config.dataset == 'emoji': \n",
    "    train_dataset = datasets.ImageFolder(config.data_path,\n",
    "                                         transform=config.augmentation\n",
    "                                     )\n",
    "\n",
    "print(config.dataset)\n",
    "    \n",
    "\"\"\"\n",
    "training set을 Dataloader에 넣습니다. \n",
    "\"\"\"\n",
    "train_loader = DataLoader(train_dataset, batch_size=config.batch_size, shuffle=True, num_workers = 2)\n",
    "print(train_dataset)"
   ]
  },
  {
   "cell_type": "code",
   "execution_count": 11,
   "id": "71e22dc8",
   "metadata": {},
   "outputs": [
    {
     "data": {
      "text/plain": [
       "8717"
      ]
     },
     "execution_count": 11,
     "metadata": {},
     "output_type": "execute_result"
    }
   ],
   "source": [
    "len(train_dataset)"
   ]
  },
  {
   "cell_type": "code",
   "execution_count": 12,
   "id": "e2c95863",
   "metadata": {},
   "outputs": [],
   "source": [
    "img, label = train_dataset[0]"
   ]
  },
  {
   "cell_type": "code",
   "execution_count": 13,
   "id": "634dcb5f",
   "metadata": {},
   "outputs": [
    {
     "data": {
      "text/plain": [
       "<matplotlib.image.AxesImage at 0x2abcfdbeb20>"
      ]
     },
     "execution_count": 13,
     "metadata": {},
     "output_type": "execute_result"
    },
    {
     "data": {
      "image/png": "[encoded data removed]",
      "text/plain": [
       "<Figure size 640x480 with 1 Axes>"
      ]
     },
     "metadata": {},
     "output_type": "display_data"
    }
   ],
   "source": [
    "plt.imshow(to_pil_image(0.5*img+0.5))"
   ]
  },
  {
   "cell_type": "markdown",
   "id": "4ff42e1c",
   "metadata": {},
   "source": [
    "## custom data\n",
    "\n",
    "로컬 디렉토리 image 가져오기"
   ]
  },
  {
   "cell_type": "code",
   "execution_count": 14,
   "id": "91ffa123",
   "metadata": {},
   "outputs": [],
   "source": [
    "import urllib.request\n",
    "import zipfile\n",
    "import glob"
   ]
  },
  {
   "cell_type": "code",
   "execution_count": 15,
   "id": "688ba052",
   "metadata": {},
   "outputs": [
    {
     "data": {
      "text/plain": [
       "[]"
      ]
     },
     "execution_count": 15,
     "metadata": {},
     "output_type": "execute_result"
    }
   ],
   "source": [
    "data_path = ''\n",
    "glob.glob('data/resource/emoji/*')[:20]"
   ]
  },
  {
   "cell_type": "code",
   "execution_count": 16,
   "id": "a936d8f3",
   "metadata": {},
   "outputs": [
    {
     "data": {
      "text/plain": [
       "<torch.utils.data.dataloader.DataLoader at 0x2abc9b5d1c0>"
      ]
     },
     "execution_count": 16,
     "metadata": {},
     "output_type": "execute_result"
    }
   ],
   "source": [
    "train_loader"
   ]
  },
  {
   "cell_type": "markdown",
   "id": "6ba67a4c",
   "metadata": {
    "id": "6ba67a4c"
   },
   "source": [
    "## GAN model"
   ]
  },
  {
   "cell_type": "code",
   "execution_count": 17,
   "id": "9e81de91",
   "metadata": {},
   "outputs": [
    {
     "data": {
      "text/plain": [
       "(3, 64, 64)"
      ]
     },
     "execution_count": 17,
     "metadata": {},
     "output_type": "execute_result"
    }
   ],
   "source": [
    "config.img_shape"
   ]
  },
  {
   "cell_type": "code",
   "execution_count": 18,
   "id": "7f3608b5",
   "metadata": {
    "id": "7f3608b5"
   },
   "outputs": [],
   "source": [
    "\"\"\"\n",
    " 일반적으로, GAN에서는 loss가 Discriminator에서부터 Generator로 흐를 때 생길 수 있는 \n",
    " vanishing gradient 현상을 완화하기 위해 Leaky ReLU를 많이 사용합니다. \n",
    "\"\"\"\n",
    "class Generator(nn.Module): # 입력으로 noise를 받음\n",
    "    def __init__(self, config):\n",
    "        super().__init__()\n",
    "        \n",
    "        self.f1 = nn.Linear(config.latent_size, 100)     \n",
    "        \n",
    "        self.dconv1 = nn.ConvTranspose2d(100, config.ngf*8, 4, stride=1, padding=0)\n",
    "        self.bn1 = nn.BatchNorm2d(config.ngf*8)\n",
    "            \n",
    "        self.dconv2 = nn.ConvTranspose2d(config.ngf*8, config.ngf*4, 4, stride=2, padding=1)\n",
    "        self.bn2 = nn.BatchNorm2d(config.ngf*4)\n",
    "            \n",
    "        self.dconv3 = nn.ConvTranspose2d(config.ngf*4, config.ngf*2, 4, stride=2, padding=1)\n",
    "        self.bn3 = nn.BatchNorm2d(config.ngf*2)\n",
    "            \n",
    "        self.dconv4 = nn.ConvTranspose2d(config.ngf*2, config.ngf,4,stride=2,padding=1)\n",
    "        self.bn4 = nn.BatchNorm2d(config.ngf)\n",
    "            \n",
    "        self.dconv5 = nn.ConvTranspose2d(config.ngf, config.img_shape[0], 4,stride=2, padding=1)\n",
    "        \n",
    "    def forward(self, z):\n",
    "        x = self.f1(z)\n",
    "        \n",
    "        x = x.reshape(real_img.shape[0], config.latent_size,1,1)\n",
    "        \n",
    "        x = F.leaky_relu(self.bn1(self.dconv1(x)), 0.2)\n",
    "        x = F.leaky_relu(self.bn2(self.dconv2(x)), 0.2)\n",
    "        x = F.leaky_relu(self.bn3(self.dconv3(x)), 0.2)\n",
    "        x = F.leaky_relu(self.bn4(self.dconv4(x)), 0.2)\n",
    "        x = torch.tanh(self.dconv5(x))\n",
    "        #img = img.reshape(img.shape[0], *config.img_shape)\n",
    "        return x"
   ]
  },
  {
   "cell_type": "code",
   "execution_count": 19,
   "id": "c10c2717",
   "metadata": {
    "id": "c10c2717"
   },
   "outputs": [],
   "source": [
    "class Discriminator(nn.Module):\n",
    "    def __init__(self, config):\n",
    "        super().__init__()\n",
    "        self.conv1 = nn.Conv2d(config.img_shape[0],config.ndf,4,stride=2,padding=1,bias=False)\n",
    "        self.conv2 = nn.Conv2d(config.ndf,config.ndf*2,4,stride=2,padding=1,bias=False)\n",
    "        self.bn2 = nn.BatchNorm2d(config.ndf*2)\n",
    "        \n",
    "        self.conv3 = nn.Conv2d(config.ndf*2, config.ndf*4,4,stride=2,padding=1,bias=False)\n",
    "        self.bn3 = nn.BatchNorm2d(config.ndf*4)\n",
    "        \n",
    "        self.conv4 = nn.Conv2d(config.ndf*4,config.ndf*8,4,stride=2,padding=1,bias=False)\n",
    "        self.bn4 = nn.BatchNorm2d(config.ndf*8)\n",
    "        \n",
    "        self.conv5 = nn.Conv2d(config.ndf*8,1,4,stride=1,padding=0,bias=False)\n",
    "\n",
    "    def forward(self,x):\n",
    "        x = F.leaky_relu(self.conv1(x),0.2)\n",
    "        x = F.leaky_relu(self.bn2(self.conv2(x)),0.2)\n",
    "        x = F.leaky_relu(self.bn3(self.conv3(x)),0.2)\n",
    "        x = F.leaky_relu(self.bn4(self.conv4(x)),0.2)\n",
    "        x = torch.sigmoid(self.conv5(x))\n",
    "        return x.view(-1,1)"
   ]
  },
  {
   "cell_type": "markdown",
   "id": "3b9dc4bf",
   "metadata": {
    "id": "3b9dc4bf"
   },
   "source": [
    "#### Binary Cross Entropy loss between the target and the input probabilities"
   ]
  },
  {
   "cell_type": "markdown",
   "id": "9684f084",
   "metadata": {
    "id": "9684f084"
   },
   "source": [
    "- [torch.nn.BCELoss](https://pytorch.org/docs/stable/generated/torch.nn.BCELoss.html)"
   ]
  },
  {
   "cell_type": "code",
   "execution_count": 20,
   "id": "fd9eac2a",
   "metadata": {
    "id": "fd9eac2a"
   },
   "outputs": [],
   "source": [
    "\"\"\"\n",
    "binary cross entropy loss를 사용하여 adversarial loss를 구현합니다.\n",
    "\"\"\"\n",
    "criterion = nn.BCELoss()\n",
    "\n",
    "\"\"\"\n",
    "Generator와 Discriminator를 각각 정의하고, 상응하는 optimizer도 함께 정의합니다.\n",
    "\"\"\"\n",
    "generator = Generator(config).to(config.device)\n",
    "discriminator = Discriminator(config).to(config.device)\n",
    "\n",
    "optimizer_g = torch.optim.Adam(generator.parameters(), lr=config.learning_rate, betas=(config.b1, config.b2))\n",
    "optimizer_d = torch.optim.Adam(discriminator.parameters(), lr=config.learning_rate, betas=(config.b1, config.b2))"
   ]
  },
  {
   "cell_type": "code",
   "execution_count": 21,
   "id": "3c9f5670",
   "metadata": {
    "id": "3c9f5670",
    "outputId": "f57c1e89-69d8-46b5-f8b6-cb86430f25b3"
   },
   "outputs": [
    {
     "data": {
      "text/plain": [
       "Generator(\n",
       "  (f1): Linear(in_features=1, out_features=100, bias=True)\n",
       "  (dconv1): ConvTranspose2d(100, 1024, kernel_size=(4, 4), stride=(1, 1))\n",
       "  (bn1): BatchNorm2d(1024, eps=1e-05, momentum=0.1, affine=True, track_running_stats=True)\n",
       "  (dconv2): ConvTranspose2d(1024, 512, kernel_size=(4, 4), stride=(2, 2), padding=(1, 1))\n",
       "  (bn2): BatchNorm2d(512, eps=1e-05, momentum=0.1, affine=True, track_running_stats=True)\n",
       "  (dconv3): ConvTranspose2d(512, 256, kernel_size=(4, 4), stride=(2, 2), padding=(1, 1))\n",
       "  (bn3): BatchNorm2d(256, eps=1e-05, momentum=0.1, affine=True, track_running_stats=True)\n",
       "  (dconv4): ConvTranspose2d(256, 128, kernel_size=(4, 4), stride=(2, 2), padding=(1, 1))\n",
       "  (bn4): BatchNorm2d(128, eps=1e-05, momentum=0.1, affine=True, track_running_stats=True)\n",
       "  (dconv5): ConvTranspose2d(128, 3, kernel_size=(4, 4), stride=(2, 2), padding=(1, 1))\n",
       ")"
      ]
     },
     "execution_count": 21,
     "metadata": {},
     "output_type": "execute_result"
    }
   ],
   "source": [
    "generator"
   ]
  },
  {
   "cell_type": "code",
   "execution_count": 22,
   "id": "cf4ca9ee",
   "metadata": {
    "id": "cf4ca9ee",
    "outputId": "95a7777c-fc6d-4c55-cf29-7aa6fc6ed9e0"
   },
   "outputs": [
    {
     "data": {
      "text/plain": [
       "Discriminator(\n",
       "  (conv1): Conv2d(3, 128, kernel_size=(4, 4), stride=(2, 2), padding=(1, 1), bias=False)\n",
       "  (conv2): Conv2d(128, 256, kernel_size=(4, 4), stride=(2, 2), padding=(1, 1), bias=False)\n",
       "  (bn2): BatchNorm2d(256, eps=1e-05, momentum=0.1, affine=True, track_running_stats=True)\n",
       "  (conv3): Conv2d(256, 512, kernel_size=(4, 4), stride=(2, 2), padding=(1, 1), bias=False)\n",
       "  (bn3): BatchNorm2d(512, eps=1e-05, momentum=0.1, affine=True, track_running_stats=True)\n",
       "  (conv4): Conv2d(512, 1024, kernel_size=(4, 4), stride=(2, 2), padding=(1, 1), bias=False)\n",
       "  (bn4): BatchNorm2d(1024, eps=1e-05, momentum=0.1, affine=True, track_running_stats=True)\n",
       "  (conv5): Conv2d(1024, 1, kernel_size=(4, 4), stride=(1, 1), bias=False)\n",
       ")"
      ]
     },
     "execution_count": 22,
     "metadata": {},
     "output_type": "execute_result"
    }
   ],
   "source": [
    "discriminator"
   ]
  },
  {
   "cell_type": "markdown",
   "id": "b200b0b3",
   "metadata": {
    "id": "b200b0b3"
   },
   "source": [
    "## Training"
   ]
  },
  {
   "cell_type": "code",
   "execution_count": 23,
   "id": "ee9bd0f9",
   "metadata": {},
   "outputs": [],
   "source": [
    "# z = torch.randn((100, config.latent_size), device=config.device, dtype=torch.float32)\n",
    "# print(z.shape)\n",
    "# print(z.reshape(100,100,1,1).shape)\n"
   ]
  },
  {
   "cell_type": "code",
   "execution_count": 24,
   "id": "482c07e6",
   "metadata": {
    "colab": {
     "referenced_widgets": [
      "ef5466833de7413dac10e9bce3d17184"
     ]
    },
    "id": "482c07e6",
    "outputId": "61603b83-f92e-4e40-c146-eabf74bb5b65",
    "scrolled": true
   },
   "outputs": [
    {
     "name": "stderr",
     "output_type": "stream",
     "text": [
      "D:\\song\\Program\\anaconda3\\envs\\basis_3.8\\lib\\site-packages\\torchmetrics\\utilities\\prints.py:36: UserWarning: Metric `InceptionScore` will save all extracted features in buffer. For large datasets this may lead to large memory footprint.\n",
      "  warnings.warn(*args, **kwargs)\n"
     ]
    },
    {
     "data": {
      "application/vnd.jupyter.widget-view+json": {
       "model_id": "f5a417df3a124d4dbd531ca79c50b756",
       "version_major": 2,
       "version_minor": 0
      },
      "text/plain": [
       "  0%|          | 0/200 [00:00<?, ?it/s]"
      ]
     },
     "metadata": {},
     "output_type": "display_data"
    },
    {
     "ename": "RuntimeError",
     "evalue": "shape '[150, 1, 1, 1]' is invalid for input of size 15000",
     "output_type": "error",
     "traceback": [
      "\u001b[1;31m---------------------------------------------------------------------------\u001b[0m",
      "\u001b[1;31mRuntimeError\u001b[0m                              Traceback (most recent call last)",
      "Cell \u001b[1;32mIn[24], line 34\u001b[0m\n\u001b[0;32m     30\u001b[0m \u001b[38;5;66;03m# 가짜 이미지 생성\u001b[39;00m\n\u001b[0;32m     31\u001b[0m \u001b[38;5;66;03m#rint(real_img.shape[0])\u001b[39;00m\n\u001b[0;32m     32\u001b[0m z \u001b[38;5;241m=\u001b[39m torch\u001b[38;5;241m.\u001b[39mrandn((real_img\u001b[38;5;241m.\u001b[39mshape[\u001b[38;5;241m0\u001b[39m], config\u001b[38;5;241m.\u001b[39mlatent_size), device\u001b[38;5;241m=\u001b[39mconfig\u001b[38;5;241m.\u001b[39mdevice, dtype\u001b[38;5;241m=\u001b[39mtorch\u001b[38;5;241m.\u001b[39mfloat32)\n\u001b[1;32m---> 34\u001b[0m gen_img \u001b[38;5;241m=\u001b[39m \u001b[43mgenerator\u001b[49m\u001b[43m(\u001b[49m\u001b[43mz\u001b[49m\u001b[43m)\u001b[49m\n\u001b[0;32m     37\u001b[0m \u001b[38;5;124;03m\"\"\"\u001b[39;00m\n\u001b[0;32m     38\u001b[0m \u001b[38;5;124;03mDiscriminator가 실제 이미지와 Generator가 생성한 이미지를 잘 구별하는지 loss를 계산합니다.\u001b[39;00m\n\u001b[0;32m     39\u001b[0m \u001b[38;5;124;03m이 때, Generator는 현재 계산된 loss로 학습되지 않으므로, \u001b[39;00m\n\u001b[0;32m     40\u001b[0m \u001b[38;5;124;03mdetach() 함수를 이용하여 생성 이미지를 computation graph에서 분리한 후 Discriminator의 입력으로 넣어줍니다. \u001b[39;00m\n\u001b[0;32m     41\u001b[0m \u001b[38;5;124;03m\"\"\"\u001b[39;00m\n\u001b[0;32m     43\u001b[0m \u001b[38;5;66;03m## loss 구함\u001b[39;00m\n",
      "File \u001b[1;32mD:\\song\\Program\\anaconda3\\envs\\basis_3.8\\lib\\site-packages\\torch\\nn\\modules\\module.py:1194\u001b[0m, in \u001b[0;36mModule._call_impl\u001b[1;34m(self, *input, **kwargs)\u001b[0m\n\u001b[0;32m   1190\u001b[0m \u001b[38;5;66;03m# If we don't have any hooks, we want to skip the rest of the logic in\u001b[39;00m\n\u001b[0;32m   1191\u001b[0m \u001b[38;5;66;03m# this function, and just call forward.\u001b[39;00m\n\u001b[0;32m   1192\u001b[0m \u001b[38;5;28;01mif\u001b[39;00m \u001b[38;5;129;01mnot\u001b[39;00m (\u001b[38;5;28mself\u001b[39m\u001b[38;5;241m.\u001b[39m_backward_hooks \u001b[38;5;129;01mor\u001b[39;00m \u001b[38;5;28mself\u001b[39m\u001b[38;5;241m.\u001b[39m_forward_hooks \u001b[38;5;129;01mor\u001b[39;00m \u001b[38;5;28mself\u001b[39m\u001b[38;5;241m.\u001b[39m_forward_pre_hooks \u001b[38;5;129;01mor\u001b[39;00m _global_backward_hooks\n\u001b[0;32m   1193\u001b[0m         \u001b[38;5;129;01mor\u001b[39;00m _global_forward_hooks \u001b[38;5;129;01mor\u001b[39;00m _global_forward_pre_hooks):\n\u001b[1;32m-> 1194\u001b[0m     \u001b[38;5;28;01mreturn\u001b[39;00m \u001b[43mforward_call\u001b[49m\u001b[43m(\u001b[49m\u001b[38;5;241;43m*\u001b[39;49m\u001b[38;5;28;43minput\u001b[39;49m\u001b[43m,\u001b[49m\u001b[43m \u001b[49m\u001b[38;5;241;43m*\u001b[39;49m\u001b[38;5;241;43m*\u001b[39;49m\u001b[43mkwargs\u001b[49m\u001b[43m)\u001b[49m\n\u001b[0;32m   1195\u001b[0m \u001b[38;5;66;03m# Do not call functions when jit is used\u001b[39;00m\n\u001b[0;32m   1196\u001b[0m full_backward_hooks, non_full_backward_hooks \u001b[38;5;241m=\u001b[39m [], []\n",
      "Cell \u001b[1;32mIn[18], line 28\u001b[0m, in \u001b[0;36mGenerator.forward\u001b[1;34m(self, z)\u001b[0m\n\u001b[0;32m     25\u001b[0m \u001b[38;5;28;01mdef\u001b[39;00m \u001b[38;5;21mforward\u001b[39m(\u001b[38;5;28mself\u001b[39m, z):\n\u001b[0;32m     26\u001b[0m     x \u001b[38;5;241m=\u001b[39m \u001b[38;5;28mself\u001b[39m\u001b[38;5;241m.\u001b[39mf1(z)\n\u001b[1;32m---> 28\u001b[0m     x \u001b[38;5;241m=\u001b[39m \u001b[43mx\u001b[49m\u001b[38;5;241;43m.\u001b[39;49m\u001b[43mreshape\u001b[49m\u001b[43m(\u001b[49m\u001b[43mreal_img\u001b[49m\u001b[38;5;241;43m.\u001b[39;49m\u001b[43mshape\u001b[49m\u001b[43m[\u001b[49m\u001b[38;5;241;43m0\u001b[39;49m\u001b[43m]\u001b[49m\u001b[43m,\u001b[49m\u001b[43m \u001b[49m\u001b[38;5;241;43m1\u001b[39;49m\u001b[43m,\u001b[49m\u001b[38;5;241;43m1\u001b[39;49m\u001b[43m,\u001b[49m\u001b[38;5;241;43m1\u001b[39;49m\u001b[43m)\u001b[49m\n\u001b[0;32m     30\u001b[0m     x \u001b[38;5;241m=\u001b[39m F\u001b[38;5;241m.\u001b[39mleaky_relu(\u001b[38;5;28mself\u001b[39m\u001b[38;5;241m.\u001b[39mbn1(\u001b[38;5;28mself\u001b[39m\u001b[38;5;241m.\u001b[39mdconv1(x)), \u001b[38;5;241m0.2\u001b[39m)\n\u001b[0;32m     31\u001b[0m     x \u001b[38;5;241m=\u001b[39m F\u001b[38;5;241m.\u001b[39mleaky_relu(\u001b[38;5;28mself\u001b[39m\u001b[38;5;241m.\u001b[39mbn2(\u001b[38;5;28mself\u001b[39m\u001b[38;5;241m.\u001b[39mdconv2(x)), \u001b[38;5;241m0.2\u001b[39m)\n",
      "\u001b[1;31mRuntimeError\u001b[0m: shape '[150, 1, 1, 1]' is invalid for input of size 15000"
     ]
    }
   ],
   "source": [
    "from torchmetrics.image.fid import FrechetInceptionDistance\n",
    "from torchmetrics.image.inception import InceptionScore\n",
    "import os\n",
    "os.environ['KMP_DUPLICATE_LIB_OK']='True'\n",
    "inception = InceptionScore()\n",
    "\"\"\"\n",
    "Generator와 Discriminator를 번갈아 학습합니다.\n",
    "\"\"\"\n",
    "g_loss_list = []\n",
    "d_loss_list = []\n",
    "for epoch in tqdm(range(config.n_epoch)):\n",
    "    #if epoch % 10 == 0:\n",
    "        #print(epoch,\"-------\")\n",
    "    for i, (real_img, _) in enumerate(train_loader):\n",
    "        \n",
    "        # real img 불러오기 (batch, 3, 64, 64)\n",
    "        real_img = real_img.to(config.device)\n",
    "        \n",
    "        # discriminator 학습을 위해 real img는 1, fake img는 0으로 학습시킨다.\n",
    "        valid_label = torch.ones((real_img.shape[0], 1), device=config.device, dtype=torch.float32)\n",
    "        fake_label = torch.zeros((real_img.shape[0], 1), device=config.device, dtype=torch.float32)\n",
    "        \n",
    "        # ====================================================#\n",
    "        #                Train Discriminator                  #\n",
    "        # ====================================================#\n",
    "\n",
    "        \"\"\"\n",
    "        Gaussian random noise를 Generator에게 입력하여 fake 이미지들을 생성합니다.\n",
    "        \"\"\"\n",
    "        # 가짜 이미지 생성\n",
    "        #rint(real_img.shape[0])\n",
    "        z = torch.randn((real_img.shape[0], config.latent_size), device=config.device, dtype=torch.float32)\n",
    "\n",
    "        gen_img = generator(z)\n",
    "        \n",
    "\n",
    "        \"\"\"\n",
    "        Discriminator가 실제 이미지와 Generator가 생성한 이미지를 잘 구별하는지 loss를 계산합니다.\n",
    "        이 때, Generator는 현재 계산된 loss로 학습되지 않으므로, \n",
    "        detach() 함수를 이용하여 생성 이미지를 computation graph에서 분리한 후 Discriminator의 입력으로 넣어줍니다. \n",
    "        \"\"\"\n",
    "        \n",
    "        ## loss 구함\n",
    "        real_loss = criterion(discriminator(real_img), valid_label)\n",
    "        fake_loss = criterion(discriminator(gen_img.detach()), fake_label) # detach generator는 가중치 업데이트 안함\n",
    "        d_loss = (real_loss + fake_loss) * 0.5\n",
    "        \n",
    "        \n",
    "        \n",
    "        \"\"\"\n",
    "        Discriminator를 업데이트합니다.\n",
    "        \"\"\"\n",
    "        optimizer_d.zero_grad()\n",
    "        d_loss.backward() # 여기서 grediant가 업데이트 안됨\n",
    "        optimizer_d.step()\n",
    "\n",
    "        \n",
    "        # ====================================================#\n",
    "        #                   Train Generator                   #\n",
    "        # ====================================================#\n",
    "\n",
    "        \"\"\"\n",
    "        Gaussian random noise를 Generator에게 입력하여 fake 이미지들을 생성합니다.\n",
    "        \"\"\"\n",
    "        z = torch.randn((real_img.shape[0], config.latent_size), device=config.device, dtype=torch.float32)\n",
    "        gen_img = generator(z)\n",
    "\n",
    "        \"\"\"\n",
    "        Generator가 Discriminator를 속일 수 있는지 loss를 계산합니다.\n",
    "        \"\"\"\n",
    "        g_loss = criterion(discriminator(gen_img), valid_label) #valid_label로 하여 generator를 학습하게 함\n",
    "        \n",
    " \n",
    "        \n",
    "        \"\"\"\n",
    "        Generator를 업데이트합니다.\n",
    "        \"\"\"\n",
    "        optimizer_g.zero_grad()\n",
    "        g_loss.backward()\n",
    "        optimizer_g.step()\n",
    "        \n",
    "        if (epoch+1) % config.save_interval == 0:\n",
    "                fid = FrechetInceptionDistance(feature=64)\n",
    "                real = torch.tensor(real_img,dtype=torch.uint8).cpu()\n",
    "                fake = torch.tensor(gen_img,dtype=torch.uint8).cpu()\n",
    "        \n",
    "                fid.update(real, real=True)\n",
    "                fid.update(fake, real=False)\n",
    "                \n",
    "                inception.update(fake)\n",
    "        \n",
    "                if i == 0:\n",
    "                    is_s1,is_s2  = inception.compute()\n",
    "                    fid_s = fid.compute()\n",
    "                else:\n",
    "                    is_s1,is_s2 = inception.compute()\n",
    "                    is_s1 += is_s1\n",
    "                    is_s2 += is_s2\n",
    "                    \n",
    "                    fid_s +=fid.compute()\n",
    "                    \n",
    "                    \n",
    "                if (i+1) % config.log_interval == 0: \n",
    "                    print('Epoch [{}/{}] Batch [{}/{}] Discriminator fid: {} is1:{} is2:{}'.format(\n",
    "                    epoch+1,\n",
    "                    config.n_epoch,\n",
    "                    i+1,\n",
    "                    len(train_loader),\n",
    "                    fid_s/(i+1),\n",
    "                    is_s1/(i+1),\n",
    "                    is_s2/(i+1)\n",
    "                    ))\n",
    "  \n",
    "        if (i+1) % config.log_interval == 0:\n",
    "            g_loss_list.append(g_loss.item())\n",
    "            d_loss_list.append(d_loss.item())\n",
    "            print('Epoch [{}/{}] Batch [{}/{}] Discriminator loss: {:.4f} Generator loss: {:.4f}'.format(\n",
    "                epoch+1,\n",
    "                config.n_epoch,\n",
    "                i+1,\n",
    "                len(train_loader),\n",
    "                d_loss.item(),\n",
    "                g_loss.item()\n",
    "            ))\n",
    "                \n",
    "            \n",
    "    if (epoch+1) % config.save_interval == 0:\n",
    "        save_path = os.path.join(config.save_path, config.dataset, 'epoch_[{0:-03d}]_fid[{1}].png'.format(\n",
    "            epoch+1,\n",
    "            fid_s/(i+1)\n",
    "        ))\n",
    "        gen_img = config.denormalize(gen_img)\n",
    "        torchvision.utils.save_image(gen_img.data[:16], save_path, nrow=4, normalize=True)"
   ]
  },
  {
   "cell_type": "code",
   "execution_count": null,
   "id": "0e0658ce",
   "metadata": {
    "id": "0e0658ce",
    "outputId": "f697deea-a400-44f8-8133-0bc0b179596c"
   },
   "outputs": [],
   "source": [
    "plt.title('GAN training loss on {} data'.format(config.dataset))\n",
    "plt.plot(g_loss_list, label='generator loss')\n",
    "plt.plot(d_loss_list, label='discriminator loss')\n",
    "plt.legend()\n",
    "plt.show()"
   ]
  },
  {
   "cell_type": "code",
   "execution_count": null,
   "id": "7ca8d796",
   "metadata": {},
   "outputs": [],
   "source": [
    "plt.title('GAN training loss on {} data'.format(config.dataset))\n",
    "plt.plot(g_loss_list[1:], label='generator loss')\n",
    "plt.plot(d_loss_list[1:], label='discriminator loss')\n",
    "plt.legend()\n",
    "plt.show()"
   ]
  },
  {
   "cell_type": "markdown",
   "id": "3b18473b",
   "metadata": {
    "id": "3b18473b"
   },
   "source": [
    "## Qualitative results"
   ]
  },
  {
   "cell_type": "code",
   "execution_count": null,
   "id": "db1b0509",
   "metadata": {
    "id": "db1b0509",
    "outputId": "71f5ad53-0e15-4dd8-ac74-29a7126017ee",
    "scrolled": false
   },
   "outputs": [],
   "source": [
    "save_path = os.path.join(config.save_path, config.dataset)\n",
    "for image_path in os.listdir(save_path):\n",
    "    if image_path.endswith('.png'):\n",
    "        plt.figure(figsize=(5,5))\n",
    "        image = Image.open(os.path.join(save_path, image_path))\n",
    "        plt.title(image_path)\n",
    "        plt.imshow(image)\n",
    "        plt.show()"
   ]
  },
  {
   "cell_type": "code",
   "execution_count": null,
   "id": "1ee394e6",
   "metadata": {
    "id": "1ee394e6"
   },
   "outputs": [],
   "source": []
  }
 ],
 "metadata": {
  "colab": {
   "provenance": []
  },
  "kernelspec": {
   "display_name": "basis_3.8",
   "language": "python",
   "name": "basis_3.8"
  },
  "language_info": {
   "codemirror_mode": {
    "name": "ipython",
    "version": 3
   },
   "file_extension": ".py",
   "mimetype": "text/x-python",
   "name": "python",
   "nbconvert_exporter": "python",
   "pygments_lexer": "ipython3",
   "version": "3.8.13"
  },
  "vscode": {
   "interpreter": {
    "hash": "e361de83e42006260aed2b055f8f04aac5dcd7e3eec4c7f8d8ccd6db537cc702"
   }
  }
 },
 "nbformat": 4,
 "nbformat_minor": 5
}
