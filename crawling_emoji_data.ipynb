{
 "cells": [
  {
   "cell_type": "code",
   "execution_count": 108,
   "id": "2b3e03fe",
   "metadata": {},
   "outputs": [],
   "source": [
    "from selenium import webdriver\n",
    "from bs4 import BeautifulSoup\n",
    "\n",
    "from selenium.webdriver.common.by import By"
   ]
  },
  {
   "cell_type": "code",
   "execution_count": 109,
   "id": "dd16efe0",
   "metadata": {},
   "outputs": [
    {
     "name": "stderr",
     "output_type": "stream",
     "text": [
      "C:\\Users\\82108\\AppData\\Local\\Temp\\ipykernel_6872\\877954352.py:2: DeprecationWarning: executable_path has been deprecated, please pass in a Service object\n",
      "  driver = webdriver.Chrome('D:/programs/chromedriver/chromedriver105.exe')\n"
     ]
    }
   ],
   "source": [
    "# chrome driver path\n",
    "driver = webdriver.Chrome('D:/programs/chromedriver/chromedriver105.exe')"
   ]
  },
  {
   "cell_type": "markdown",
   "id": "96184363",
   "metadata": {},
   "source": [
    "## HTML다운로드 및 추출"
   ]
  },
  {
   "cell_type": "code",
   "execution_count": 110,
   "id": "e501ad77",
   "metadata": {},
   "outputs": [],
   "source": [
    "start_url = 'https://emoji.gg/generator'\n",
    "driver.get(start_url)"
   ]
  },
  {
   "cell_type": "code",
   "execution_count": 111,
   "id": "12132fbb",
   "metadata": {},
   "outputs": [],
   "source": [
    "html = driver.page_source\n",
    "soup = BeautifulSoup(html, 'html.parser')\n",
    "\n",
    "#i = 3\n",
    "#driver.find_element(By.CSS_SELECTOR,'#myTab > li:nth-child({page})'.format(page = i)).click()\n",
    "#driver.find_element(By.XPATH,'//*[@id=\"bases\"]/div/div[1]').click()\n",
    "\n",
    "# a = soup.select('div.maker-item.mb-2.text-center.base')\n",
    "# len(a)"
   ]
  },
  {
   "cell_type": "markdown",
   "id": "454aa27b",
   "metadata": {},
   "source": [
    "## Hyperparameter"
   ]
  },
  {
   "cell_type": "code",
   "execution_count": 112,
   "id": "a1534aed",
   "metadata": {},
   "outputs": [],
   "source": [
    "class AttrDict(dict):\n",
    "    def __init__(self, *args, **kwargs):\n",
    "        super(AttrDict, self).__init__(*args, **kwargs)\n",
    "        self.__dict__ = self"
   ]
  },
  {
   "cell_type": "code",
   "execution_count": 113,
   "id": "3f3aec2a",
   "metadata": {},
   "outputs": [],
   "source": [
    "config = AttrDict()\n",
    "config.g_bases = [1, 9, 11, 21, 22, 34]\n",
    "config.g_eyes = [3, 7, 9, 20, 21, 35]\n",
    "config.g_mouths = [ 8, 10, 12, 15, 16, 22, 33, 34]\n",
    "config.g_brows = [7, 14, 1, 2]\n",
    "config.g_extras = [9, 22, 21]\n",
    "\n",
    "config.b_bases = [1, 29, 9, 21, 22, 39]\n",
    "config.b_eyes = [3, 2, 11, 16, 22, 25]\n",
    "config.b_mouths = [7, 11, 14, 19, 30, 38, 66, 4]\n",
    "config.b_brows = [11, 10, 8, 1]\n",
    "config.b_extras = [23, 10, 4]\n",
    "\n",
    "config.s_bases = [1, 62, 2, 9, 62, 7]\n",
    "config.s_eyes = [3, 8, 62, 30, 18, 53]\n",
    "config.s_mouths = [3, 5, 6, 18, 19, 39, 66, 57]\n",
    "config.s_brows = [3, 4, 5, 11]\n",
    "config.s_extras = [1, 11, 20]\n",
    "\n",
    "config.page = dict(bases = 1,\n",
    "           eyes = 2,\n",
    "           mouths = 4,\n",
    "           brows = 3,\n",
    "           extras = 5)"
   ]
  },
  {
   "cell_type": "markdown",
   "id": "a34c052c",
   "metadata": {},
   "source": [
    "## Bases + Brows + Mouth\n",
    "bases, Brows, Mouth만 조합한 데이터 셋"
   ]
  },
  {
   "cell_type": "code",
   "execution_count": 89,
   "id": "184c1887",
   "metadata": {},
   "outputs": [
    {
     "data": {
      "text/plain": [
       "(62, 63, 71, 45, 22)"
      ]
     },
     "execution_count": 89,
     "metadata": {},
     "output_type": "execute_result"
    }
   ],
   "source": [
    "len_bases = len(soup.select('div.maker-item.mb-2.text-center.base'))\n",
    "len_eyes = len(soup.select('div.maker-item.mb-2.text-center.eyes'))\n",
    "len_mouths = len(soup.select('div.maker-item.mb-2.text-center.mouths'))\n",
    "len_extras = len(soup.select('div.maker-item.mb-2.text-center.extra'))\n",
    "len_brows = len(soup.select('div.maker-item.mb-2.text-center.eyebrows'))\n",
    "\n",
    "\n",
    "len_bases, len_eyes, len_mouths, len_extras, len_brows"
   ]
  },
  {
   "cell_type": "markdown",
   "id": "43b1cc9c",
   "metadata": {},
   "source": [
    "## HAPPY DATASET"
   ]
  },
  {
   "cell_type": "code",
   "execution_count": 48,
   "id": "deaa1e5a",
   "metadata": {},
   "outputs": [],
   "source": [
    "import time\n",
    "\n",
    "# for bases in range(1):\n",
    "#     print('bases: ',bases)\n",
    "driver.find_element(By.CSS_SELECTOR,'#myTab > li:nth-child({page})'.format(page = 1)).click()\n",
    "driver.implicitly_wait(30)\n",
    "driver.find_element(By.XPATH,'//*[@id=\"bases\"]/div/div[{index}]'.format(index = 1)).click()\n",
    "driver.implicitly_wait(30)\n",
    "\n",
    "for base in config.g_bases:\n",
    "    driver.find_element(By.CSS_SELECTOR,'#myTab > li:nth-child({page})'.format(page = config.page['bases'])).click()\n",
    "    driver.implicitly_wait(30)\n",
    "    driver.find_element(By.XPATH,'//*[@id=\"bases\"]/div/div[{index}]'.format(index = base)).click()\n",
    "    driver.implicitly_wait(30)\n",
    "\n",
    "    for eyes in config.g_eyes:\n",
    "        driver.find_element(By.CSS_SELECTOR,'#myTab > li:nth-child({page})'.format(page = config.page['eyes'])).click()\n",
    "        driver.implicitly_wait(30)\n",
    "        driver.find_element(By.XPATH,'//*[@id=\"eyes\"]/div/div[{index}]'.format(index = eyes)).click()\n",
    "        driver.implicitly_wait(30)\n",
    "        \n",
    "        for brows in config.g_brows:\n",
    "            driver.find_element(By.CSS_SELECTOR,'#myTab > li:nth-child({page})'.format(page = config.page['brows'])).click()\n",
    "            driver.implicitly_wait(30)\n",
    "            driver.find_element(By.XPATH,'//*[@id=\"eyebrows\"]/div/div[{index}]'.format(index = brows)).click()\n",
    "            driver.implicitly_wait(30)\n",
    "\n",
    "            for mouths in config.g_mouths:\n",
    "                driver.find_element(By.CSS_SELECTOR,'#myTab > li:nth-child({page})'.format(page = config.page['mouths'])).click()\n",
    "                driver.implicitly_wait(30)\n",
    "                driver.find_element(By.XPATH,'//*[@id=\"mouths\"]/div/div[{index}]'.format(index = mouths)).click()\n",
    "                driver.implicitly_wait(30)\n",
    "                driver.find_element(By.XPATH,'//*[@id=\"download\"]').click()\n",
    "                driver.implicitly_wait(30)\n",
    "\n",
    "\n",
    "            \n",
    "            "
   ]
  },
  {
   "cell_type": "markdown",
   "id": "c33ddf2d",
   "metadata": {},
   "source": [
    "# + Happy Extras"
   ]
  },
  {
   "cell_type": "code",
   "execution_count": null,
   "id": "a2e93934",
   "metadata": {},
   "outputs": [],
   "source": [
    "start_url = 'https://emoji.gg/generator'\n",
    "driver.get(start_url)\n",
    "html = driver.page_source\n",
    "soup = BeautifulSoup(html, 'html.parser')"
   ]
  },
  {
   "cell_type": "code",
   "execution_count": 67,
   "id": "2530c999",
   "metadata": {},
   "outputs": [],
   "source": [
    "for base in config.g_bases:\n",
    "    driver.find_element(By.CSS_SELECTOR,'#myTab > li:nth-child({page})'.format(page = config.page['bases'])).click()\n",
    "    driver.implicitly_wait(30)\n",
    "    driver.find_element(By.XPATH,'//*[@id=\"bases\"]/div/div[{index}]'.format(index = base)).click()\n",
    "    driver.implicitly_wait(30)\n",
    "\n",
    "    for eyes in config.g_eyes:\n",
    "        driver.find_element(By.CSS_SELECTOR,'#myTab > li:nth-child({page})'.format(page = config.page['eyes'])).click()\n",
    "        driver.implicitly_wait(30)\n",
    "        driver.find_element(By.XPATH,'//*[@id=\"eyes\"]/div/div[{index}]'.format(index = eyes)).click()\n",
    "        driver.implicitly_wait(30)\n",
    "        \n",
    "        for brows in config.g_brows:\n",
    "            driver.find_element(By.CSS_SELECTOR,'#myTab > li:nth-child({page})'.format(page = config.page['brows'])).click()\n",
    "            driver.implicitly_wait(30)\n",
    "            driver.find_element(By.XPATH,'//*[@id=\"eyebrows\"]/div/div[{index}]'.format(index = brows)).click()\n",
    "            driver.implicitly_wait(30)\n",
    "\n",
    "            for mouths in config.g_mouths:\n",
    "                driver.find_element(By.CSS_SELECTOR,'#myTab > li:nth-child({page})'.format(page = config.page['mouths'])).click()\n",
    "                driver.implicitly_wait(30)\n",
    "                driver.find_element(By.XPATH,'//*[@id=\"mouths\"]/div/div[{index}]'.format(index = mouths)).click()\n",
    "                driver.implicitly_wait(30)\n",
    "                \n",
    "                for extras in config.g_extras:\n",
    "                    driver.find_element(By.CSS_SELECTOR,'#myTab > li:nth-child({page})'.format(page = config.page['extras'])).click()\n",
    "                    driver.implicitly_wait(30)\n",
    "                    driver.find_element(By.XPATH,'//*[@id=\"extras\"]/div/div[{index}]'.format(index = extras)).click()\n",
    "                    driver.implicitly_wait(30)\n",
    "                    driver.find_element(By.XPATH,'//*[@id=\"download\"]').click()\n",
    "                    driver.implicitly_wait(30)\n",
    "                "
   ]
  },
  {
   "cell_type": "markdown",
   "id": "c45f718c",
   "metadata": {},
   "source": [
    "## BAD DATASET"
   ]
  },
  {
   "cell_type": "code",
   "execution_count": 90,
   "id": "fe90e566",
   "metadata": {},
   "outputs": [],
   "source": [
    "import time\n",
    "\n",
    "# for bases in range(1):\n",
    "#     print('bases: ',bases)\n",
    "driver.find_element(By.CSS_SELECTOR,'#myTab > li:nth-child({page})'.format(page = 1)).click()\n",
    "driver.implicitly_wait(30)\n",
    "driver.find_element(By.XPATH,'//*[@id=\"bases\"]/div/div[{index}]'.format(index = 1)).click()\n",
    "driver.implicitly_wait(30)\n",
    "\n",
    "for base in config.b_bases:\n",
    "    driver.find_element(By.CSS_SELECTOR,'#myTab > li:nth-child({page})'.format(page = config.page['bases'])).click()\n",
    "    driver.implicitly_wait(30)\n",
    "    driver.find_element(By.XPATH,'//*[@id=\"bases\"]/div/div[{index}]'.format(index = base)).click()\n",
    "    driver.implicitly_wait(30)\n",
    "\n",
    "    for eyes in config.b_eyes:\n",
    "        driver.find_element(By.CSS_SELECTOR,'#myTab > li:nth-child({page})'.format(page = config.page['eyes'])).click()\n",
    "        driver.implicitly_wait(30)\n",
    "        driver.find_element(By.XPATH,'//*[@id=\"eyes\"]/div/div[{index}]'.format(index = eyes)).click()\n",
    "        driver.implicitly_wait(30)\n",
    "        \n",
    "        for brows in config.b_brows:\n",
    "            driver.find_element(By.CSS_SELECTOR,'#myTab > li:nth-child({page})'.format(page = config.page['brows'])).click()\n",
    "            driver.implicitly_wait(30)\n",
    "            driver.find_element(By.XPATH,'//*[@id=\"eyebrows\"]/div/div[{index}]'.format(index = brows)).click()\n",
    "            driver.implicitly_wait(30)\n",
    "\n",
    "            for mouths in config.b_mouths:\n",
    "                driver.find_element(By.CSS_SELECTOR,'#myTab > li:nth-child({page})'.format(page = config.page['mouths'])).click()\n",
    "                driver.implicitly_wait(30)\n",
    "                driver.find_element(By.XPATH,'//*[@id=\"mouths\"]/div/div[{index}]'.format(index = mouths)).click()\n",
    "                driver.implicitly_wait(30)\n",
    "                driver.find_element(By.XPATH,'//*[@id=\"download\"]').click()\n",
    "                driver.implicitly_wait(30)"
   ]
  },
  {
   "cell_type": "markdown",
   "id": "6a27370b",
   "metadata": {},
   "source": [
    "# Bad Extras"
   ]
  },
  {
   "cell_type": "code",
   "execution_count": 91,
   "id": "b89e35be",
   "metadata": {},
   "outputs": [],
   "source": [
    "start_url = 'https://emoji.gg/generator'\n",
    "driver.get(start_url)\n",
    "html = driver.page_source\n",
    "soup = BeautifulSoup(html, 'html.parser')"
   ]
  },
  {
   "cell_type": "code",
   "execution_count": 99,
   "id": "ebd51b4a",
   "metadata": {},
   "outputs": [],
   "source": [
    "for base in config.b_bases:\n",
    "    driver.find_element(By.CSS_SELECTOR,'#myTab > li:nth-child({page})'.format(page = config.page['bases'])).click()\n",
    "    driver.implicitly_wait(30)\n",
    "    driver.find_element(By.XPATH,'//*[@id=\"bases\"]/div/div[{index}]'.format(index = base)).click()\n",
    "    driver.implicitly_wait(30)\n",
    "\n",
    "    for eyes in config.b_eyes:\n",
    "        driver.find_element(By.CSS_SELECTOR,'#myTab > li:nth-child({page})'.format(page = config.page['eyes'])).click()\n",
    "        driver.implicitly_wait(30)\n",
    "        driver.find_element(By.XPATH,'//*[@id=\"eyes\"]/div/div[{index}]'.format(index = eyes)).click()\n",
    "        driver.implicitly_wait(30)\n",
    "        \n",
    "        for brows in config.b_brows:\n",
    "            driver.find_element(By.CSS_SELECTOR,'#myTab > li:nth-child({page})'.format(page = config.page['brows'])).click()\n",
    "            driver.implicitly_wait(30)\n",
    "            driver.find_element(By.XPATH,'//*[@id=\"eyebrows\"]/div/div[{index}]'.format(index = brows)).click()\n",
    "            driver.implicitly_wait(30)\n",
    "\n",
    "            for mouths in config.b_mouths:\n",
    "                driver.find_element(By.CSS_SELECTOR,'#myTab > li:nth-child({page})'.format(page = config.page['mouths'])).click()\n",
    "                driver.implicitly_wait(30)\n",
    "                driver.find_element(By.XPATH,'//*[@id=\"mouths\"]/div/div[{index}]'.format(index = mouths)).click()\n",
    "                driver.implicitly_wait(30)\n",
    "                \n",
    "                for extras in config.b_extras:\n",
    "                    driver.find_element(By.CSS_SELECTOR,'#myTab > li:nth-child({page})'.format(page = config.page['extras'])).click()\n",
    "                    driver.implicitly_wait(30)\n",
    "                    driver.find_element(By.XPATH,'//*[@id=\"extras\"]/div/div[{index}]'.format(index = extras)).click()\n",
    "                    driver.implicitly_wait(30)\n",
    "                    driver.find_element(By.XPATH,'//*[@id=\"download\"]').click()\n",
    "                    driver.implicitly_wait(30)"
   ]
  },
  {
   "cell_type": "markdown",
   "id": "f400afd4",
   "metadata": {},
   "source": [
    "# Sad Data"
   ]
  },
  {
   "cell_type": "code",
   "execution_count": 114,
   "id": "19c0378a",
   "metadata": {},
   "outputs": [],
   "source": [
    "import time\n",
    "\n",
    "# for bases in range(1):\n",
    "#     print('bases: ',bases)\n",
    "driver.find_element(By.CSS_SELECTOR,'#myTab > li:nth-child({page})'.format(page = 1)).click()\n",
    "driver.implicitly_wait(30)\n",
    "driver.find_element(By.XPATH,'//*[@id=\"bases\"]/div/div[{index}]'.format(index = 1)).click()\n",
    "driver.implicitly_wait(30)\n",
    "\n",
    "for base in config.s_bases:\n",
    "    driver.find_element(By.CSS_SELECTOR,'#myTab > li:nth-child({page})'.format(page = config.page['bases'])).click()\n",
    "    driver.implicitly_wait(30)\n",
    "    driver.find_element(By.XPATH,'//*[@id=\"bases\"]/div/div[{index}]'.format(index = base)).click()\n",
    "    driver.implicitly_wait(30)\n",
    "\n",
    "    for eyes in config.s_eyes:\n",
    "        driver.find_element(By.CSS_SELECTOR,'#myTab > li:nth-child({page})'.format(page = config.page['eyes'])).click()\n",
    "        driver.implicitly_wait(30)\n",
    "        driver.find_element(By.XPATH,'//*[@id=\"eyes\"]/div/div[{index}]'.format(index = eyes)).click()\n",
    "        driver.implicitly_wait(30)\n",
    "        \n",
    "        for brows in config.s_brows:\n",
    "            driver.find_element(By.CSS_SELECTOR,'#myTab > li:nth-child({page})'.format(page = config.page['brows'])).click()\n",
    "            driver.implicitly_wait(30)\n",
    "            driver.find_element(By.XPATH,'//*[@id=\"eyebrows\"]/div/div[{index}]'.format(index = brows)).click()\n",
    "            driver.implicitly_wait(30)\n",
    "\n",
    "            for mouths in config.s_mouths:\n",
    "                driver.find_element(By.CSS_SELECTOR,'#myTab > li:nth-child({page})'.format(page = config.page['mouths'])).click()\n",
    "                driver.implicitly_wait(30)\n",
    "                driver.find_element(By.XPATH,'//*[@id=\"mouths\"]/div/div[{index}]'.format(index = mouths)).click()\n",
    "                driver.implicitly_wait(30)\n",
    "                driver.find_element(By.XPATH,'//*[@id=\"download\"]').click()\n",
    "                driver.implicitly_wait(30)"
   ]
  },
  {
   "cell_type": "markdown",
   "id": "e25a9414",
   "metadata": {},
   "source": [
    "# Sad Extras"
   ]
  },
  {
   "cell_type": "code",
   "execution_count": 115,
   "id": "815c5add",
   "metadata": {},
   "outputs": [],
   "source": [
    "start_url = 'https://emoji.gg/generator'\n",
    "driver.get(start_url)\n",
    "html = driver.page_source\n",
    "soup = BeautifulSoup(html, 'html.parser')"
   ]
  },
  {
   "cell_type": "code",
   "execution_count": 116,
   "id": "97805435",
   "metadata": {},
   "outputs": [],
   "source": [
    "for base in config.s_bases:\n",
    "    driver.find_element(By.CSS_SELECTOR,'#myTab > li:nth-child({page})'.format(page = config.page['bases'])).click()\n",
    "    driver.implicitly_wait(30)\n",
    "    driver.find_element(By.XPATH,'//*[@id=\"bases\"]/div/div[{index}]'.format(index = base)).click()\n",
    "    driver.implicitly_wait(30)\n",
    "\n",
    "    for eyes in config.s_eyes:\n",
    "        driver.find_element(By.CSS_SELECTOR,'#myTab > li:nth-child({page})'.format(page = config.page['eyes'])).click()\n",
    "        driver.implicitly_wait(30)\n",
    "        driver.find_element(By.XPATH,'//*[@id=\"eyes\"]/div/div[{index}]'.format(index = eyes)).click()\n",
    "        driver.implicitly_wait(30)\n",
    "        \n",
    "        for brows in config.s_brows:\n",
    "            driver.find_element(By.CSS_SELECTOR,'#myTab > li:nth-child({page})'.format(page = config.page['brows'])).click()\n",
    "            driver.implicitly_wait(30)\n",
    "            driver.find_element(By.XPATH,'//*[@id=\"eyebrows\"]/div/div[{index}]'.format(index = brows)).click()\n",
    "            driver.implicitly_wait(30)\n",
    "\n",
    "            for mouths in config.s_mouths:\n",
    "                driver.find_element(By.CSS_SELECTOR,'#myTab > li:nth-child({page})'.format(page = config.page['mouths'])).click()\n",
    "                driver.implicitly_wait(30)\n",
    "                driver.find_element(By.XPATH,'//*[@id=\"mouths\"]/div/div[{index}]'.format(index = mouths)).click()\n",
    "                driver.implicitly_wait(30)\n",
    "                \n",
    "                for extras in config.s_extras:\n",
    "                    driver.find_element(By.CSS_SELECTOR,'#myTab > li:nth-child({page})'.format(page = config.page['extras'])).click()\n",
    "                    driver.implicitly_wait(30)\n",
    "                    driver.find_element(By.XPATH,'//*[@id=\"extras\"]/div/div[{index}]'.format(index = extras)).click()\n",
    "                    driver.implicitly_wait(30)\n",
    "                    driver.find_element(By.XPATH,'//*[@id=\"download\"]').click()\n",
    "                    driver.implicitly_wait(30)"
   ]
  }
 ],
 "metadata": {
  "kernelspec": {
   "display_name": "Python 3 (ipykernel)",
   "language": "python",
   "name": "python3"
  },
  "language_info": {
   "codemirror_mode": {
    "name": "ipython",
    "version": 3
   },
   "file_extension": ".py",
   "mimetype": "text/x-python",
   "name": "python",
   "nbconvert_exporter": "python",
   "pygments_lexer": "ipython3",
   "version": "3.9.13"
  }
 },
 "nbformat": 4,
 "nbformat_minor": 5
}
